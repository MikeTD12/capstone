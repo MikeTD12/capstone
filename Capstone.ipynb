{
 "cells": [
  {
   "cell_type": "markdown",
   "metadata": {},
   "source": [
    "# Importing necessary libraries & data, setting pandas' display options."
   ]
  },
  {
   "cell_type": "code",
   "execution_count": 117,
   "metadata": {
    "ExecuteTime": {
     "end_time": "2020-09-30T17:10:03.633508Z",
     "start_time": "2020-09-30T17:09:49.041615Z"
    }
   },
   "outputs": [],
   "source": [
    "import pandas as pd\n",
    "import numpy as np\n",
    "import matplotlib.pyplot as plt\n",
    "%matplotlib inline\n",
    "import seaborn as sns\n",
    "\n",
    "from sklearn.compose import make_column_transformer\n",
    "from sklearn.model_selection import train_test_split, GridSearchCV, StratifiedKFold\n",
    "\n",
    "from category_encoders import TargetEncoder\n",
    "from category_encoders import OneHotEncoder\n",
    "from category_encoders import OrdinalEncoder\n",
    "from category_encoders import BinaryEncoder\n",
    "\n",
    "from sklearn.metrics import precision_recall_curve, precision_score, recall_score,\\\n",
    "accuracy_score, f1_score, classification_report\n",
    "\n",
    "import streamlit as st"
   ]
  },
  {
   "cell_type": "code",
   "execution_count": 2,
   "metadata": {
    "ExecuteTime": {
     "end_time": "2020-09-23T20:35:14.776694Z",
     "start_time": "2020-09-23T20:35:09.617282Z"
    }
   },
   "outputs": [],
   "source": [
    "c = pd.read_csv('courses.csv') #merged - cla\n",
    "a = pd.read_csv('assessments.csv') #merged - stu_a\n",
    "sa = pd.read_csv('studentAssessment.csv') #merged - stu_a\n",
    "si = pd.read_csv('studentInfo.csv') #merged - s\n",
    "sr = pd.read_csv('studentRegistration.csv') #merged - s\n",
    "vle = pd.read_csv('vle.csv') #merged - cla\n",
    "svle = pd.read_csv('studentVle.csv') #merged - cla"
   ]
  },
  {
   "cell_type": "code",
   "execution_count": 3,
   "metadata": {
    "ExecuteTime": {
     "end_time": "2020-09-23T20:35:14.782620Z",
     "start_time": "2020-09-23T20:35:14.779062Z"
    }
   },
   "outputs": [],
   "source": [
    "pd.set_option('display.max_columns', 500)"
   ]
  },
  {
   "cell_type": "markdown",
   "metadata": {},
   "source": [
    "# Merging & cleaning data"
   ]
  },
  {
   "cell_type": "code",
   "execution_count": 4,
   "metadata": {
    "ExecuteTime": {
     "end_time": "2020-09-23T20:35:14.823071Z",
     "start_time": "2020-09-23T20:35:14.784299Z"
    }
   },
   "outputs": [],
   "source": [
    "# This field in the student information table has no value as an integar. Converting it to a string.\n",
    "si['id_student'] = si.id_student.astype('str')"
   ]
  },
  {
   "cell_type": "code",
   "execution_count": 5,
   "metadata": {
    "ExecuteTime": {
     "end_time": "2020-09-23T20:35:14.834397Z",
     "start_time": "2020-09-23T20:35:14.824738Z"
    }
   },
   "outputs": [],
   "source": [
    "# Creating a unique identifier at the student course level. Will serve as the primary key.\n",
    "#si['unique_stu_course'] = si.code_module+'_'+si.code_presentation+'_'+si.id_student"
   ]
  },
  {
   "cell_type": "code",
   "execution_count": 6,
   "metadata": {
    "ExecuteTime": {
     "end_time": "2020-09-23T20:35:14.847050Z",
     "start_time": "2020-09-23T20:35:14.837089Z"
    }
   },
   "outputs": [],
   "source": [
    "# Dropping redundant fields before merging.\n",
    "vle.drop(labels=['code_module', 'code_presentation'], axis=1, inplace=True)"
   ]
  },
  {
   "cell_type": "code",
   "execution_count": 7,
   "metadata": {
    "ExecuteTime": {
     "end_time": "2020-09-23T20:35:17.265114Z",
     "start_time": "2020-09-23T20:35:14.848623Z"
    }
   },
   "outputs": [],
   "source": [
    "# Merging the two virtual learning environment tables, to create a new table \"Learning Activity (la)\".\n",
    "la = pd.merge(svle, vle, how='left', on='id_site')"
   ]
  },
  {
   "cell_type": "code",
   "execution_count": 8,
   "metadata": {
    "ExecuteTime": {
     "end_time": "2020-09-23T20:35:21.209563Z",
     "start_time": "2020-09-23T20:35:17.272914Z"
    }
   },
   "outputs": [],
   "source": [
    "# Merging the courses table to create new table \"Course Learning Activity (cla)\".\n",
    "cla = pd.merge(la, c, on=['code_module', 'code_presentation'], how='left')"
   ]
  },
  {
   "cell_type": "code",
   "execution_count": 9,
   "metadata": {
    "ExecuteTime": {
     "end_time": "2020-09-23T20:35:24.818759Z",
     "start_time": "2020-09-23T20:35:21.211716Z"
    }
   },
   "outputs": [],
   "source": [
    "# Dropping two fields that don't contain enough data and useful meaning.\n",
    "cla.drop(labels=['week_from', 'week_to'], axis=1, inplace=True)"
   ]
  },
  {
   "cell_type": "code",
   "execution_count": 10,
   "metadata": {
    "ExecuteTime": {
     "end_time": "2020-09-23T20:35:24.853336Z",
     "start_time": "2020-09-23T20:35:24.821044Z"
    }
   },
   "outputs": [],
   "source": [
    "# This field in the student registration table has no value as an integar. Converting it to a string.\n",
    "sr['id_student'] = sr.id_student.astype('str')"
   ]
  },
  {
   "cell_type": "code",
   "execution_count": 11,
   "metadata": {
    "ExecuteTime": {
     "end_time": "2020-09-23T20:35:24.951448Z",
     "start_time": "2020-09-23T20:35:24.855406Z"
    }
   },
   "outputs": [],
   "source": [
    "# Merging student information & registration into one table, \"Students (s)\"\n",
    "s = pd.merge(si, sr, on=['code_module', 'code_presentation', 'id_student'])"
   ]
  },
  {
   "cell_type": "code",
   "execution_count": 12,
   "metadata": {
    "ExecuteTime": {
     "end_time": "2020-09-23T20:35:24.987263Z",
     "start_time": "2020-09-23T20:35:24.952958Z"
    }
   },
   "outputs": [],
   "source": [
    "# Merging student assessments with the assessments lookup table to retrieve assessment type & weight.\n",
    "stu_a = pd.merge(sa, a, how='left', on='id_assessment')"
   ]
  },
  {
   "cell_type": "code",
   "execution_count": 13,
   "metadata": {
    "ExecuteTime": {
     "end_time": "2020-09-23T20:35:25.268697Z",
     "start_time": "2020-09-23T20:35:24.989122Z"
    }
   },
   "outputs": [],
   "source": [
    "# Filtering the course learning activity table to include the first 54 days of activity in course (20%)\n",
    "c = cla[cla.date <= 54]"
   ]
  },
  {
   "cell_type": "code",
   "execution_count": 14,
   "metadata": {
    "ExecuteTime": {
     "end_time": "2020-09-23T20:35:26.103460Z",
     "start_time": "2020-09-23T20:35:25.270105Z"
    }
   },
   "outputs": [],
   "source": [
    "# Grouping the course learning activity table in order to aggregate clicks on activity type.\n",
    "cg = c.groupby(['code_module', 'code_presentation', 'id_student', 'activity_type']).sum_click.sum().reset_index()"
   ]
  },
  {
   "cell_type": "code",
   "execution_count": 15,
   "metadata": {
    "ExecuteTime": {
     "end_time": "2020-09-23T20:35:26.346400Z",
     "start_time": "2020-09-23T20:35:26.104814Z"
    }
   },
   "outputs": [],
   "source": [
    "# Pivoting table to create features at the activity type level.\n",
    "cp = pd.pivot_table(cg, values='sum_click', index=['code_module', 'code_presentation', 'id_student'],\n",
    "               columns='activity_type', aggfunc='sum').reset_index()"
   ]
  },
  {
   "cell_type": "code",
   "execution_count": 16,
   "metadata": {
    "ExecuteTime": {
     "end_time": "2020-09-23T20:35:26.366885Z",
     "start_time": "2020-09-23T20:35:26.348042Z"
    }
   },
   "outputs": [],
   "source": [
    "# filling NaN with 0, as that is what NaN represents in this case.\n",
    "cp = cp.fillna(0)"
   ]
  },
  {
   "cell_type": "code",
   "execution_count": 17,
   "metadata": {
    "ExecuteTime": {
     "end_time": "2020-09-23T20:35:26.400305Z",
     "start_time": "2020-09-23T20:35:26.368355Z"
    }
   },
   "outputs": [],
   "source": [
    "# Filtering the students table to exclude courses withdrawn before day 55 of course.\n",
    "s = s[(s.date_unregistration > 54) | (s.date_unregistration.isna())]"
   ]
  },
  {
   "cell_type": "code",
   "execution_count": 18,
   "metadata": {
    "ExecuteTime": {
     "end_time": "2020-09-23T20:35:26.426583Z",
     "start_time": "2020-09-23T20:35:26.401774Z"
    }
   },
   "outputs": [],
   "source": [
    "cp['id_student'] = cp.id_student.astype('str')"
   ]
  },
  {
   "cell_type": "code",
   "execution_count": 19,
   "metadata": {
    "ExecuteTime": {
     "end_time": "2020-09-23T20:35:26.481819Z",
     "start_time": "2020-09-23T20:35:26.428933Z"
    }
   },
   "outputs": [],
   "source": [
    "# Merging for a final time to create the dataframe that will be used in my ML model.\n",
    "df = pd.merge(s, cp, on=['code_module', 'code_presentation', 'id_student'])"
   ]
  },
  {
   "cell_type": "markdown",
   "metadata": {
    "ExecuteTime": {
     "end_time": "2020-09-23T19:19:56.276848Z",
     "start_time": "2020-09-23T19:19:56.234069Z"
    }
   },
   "source": [
    "# Featuring Engineering"
   ]
  },
  {
   "cell_type": "code",
   "execution_count": 20,
   "metadata": {
    "ExecuteTime": {
     "end_time": "2020-09-23T20:35:26.510409Z",
     "start_time": "2020-09-23T20:35:26.483286Z"
    }
   },
   "outputs": [],
   "source": [
    "# Dropping the withdrawal date field, as to avoid data leakage in my model.\n",
    "df.drop(columns='date_unregistration', inplace=True)"
   ]
  },
  {
   "cell_type": "code",
   "execution_count": 21,
   "metadata": {
    "ExecuteTime": {
     "end_time": "2020-09-23T20:35:26.526496Z",
     "start_time": "2020-09-23T20:35:26.512081Z"
    }
   },
   "outputs": [],
   "source": [
    "df.rename(columns={'final_result': 'target'}, inplace=True)"
   ]
  },
  {
   "cell_type": "code",
   "execution_count": 22,
   "metadata": {
    "ExecuteTime": {
     "end_time": "2020-09-23T20:35:26.551865Z",
     "start_time": "2020-09-23T20:35:26.529294Z"
    }
   },
   "outputs": [],
   "source": [
    "df['target'] = df.target.apply(lambda x: 1 if x in ['Distinction', 'Pass'] else 0)"
   ]
  },
  {
   "cell_type": "code",
   "execution_count": 69,
   "metadata": {
    "ExecuteTime": {
     "end_time": "2020-09-23T21:25:28.379336Z",
     "start_time": "2020-09-23T21:25:28.368606Z"
    }
   },
   "outputs": [],
   "source": [
    "df.drop(columns='id_student', inplace=True)"
   ]
  },
  {
   "cell_type": "markdown",
   "metadata": {
    "ExecuteTime": {
     "end_time": "2020-09-23T20:15:32.996639Z",
     "start_time": "2020-09-23T20:15:32.863526Z"
    }
   },
   "source": [
    "# Train, Test, Split & Feature Encoding"
   ]
  },
  {
   "cell_type": "code",
   "execution_count": 115,
   "metadata": {
    "ExecuteTime": {
     "end_time": "2020-09-25T18:25:40.589792Z",
     "start_time": "2020-09-25T18:25:40.454398Z"
    }
   },
   "outputs": [],
   "source": [
    "X = df.drop(['target'], axis=1)\n",
    "y = df['target']\n",
    "\n",
    "X_train, X_test, y_train, y_test = train_test_split(X, y, test_size = 0.25, random_state=25)"
   ]
  },
  {
   "cell_type": "code",
   "execution_count": 71,
   "metadata": {
    "ExecuteTime": {
     "end_time": "2020-09-23T21:25:35.848883Z",
     "start_time": "2020-09-23T21:25:35.624942Z"
    }
   },
   "outputs": [],
   "source": [
    "enc = TargetEncoder(cols=['code_module', 'code_presentation', 'region', 'highest_education',\n",
    "                          'imd_band', 'age_band'])\n",
    "data_train = enc.fit_transform(X_train, y_train)\n",
    "data_test = enc.transform(X_test)"
   ]
  },
  {
   "cell_type": "code",
   "execution_count": 72,
   "metadata": {
    "ExecuteTime": {
     "end_time": "2020-09-23T21:25:36.688399Z",
     "start_time": "2020-09-23T21:25:36.583948Z"
    }
   },
   "outputs": [],
   "source": [
    "ohe = OneHotEncoder(cols=['gender', 'disability'], drop_invariant=True)\n",
    "data_train = ohe.fit_transform(data_train, y_train)\n",
    "data_test = ohe.transform(data_test)"
   ]
  },
  {
   "cell_type": "code",
   "execution_count": 75,
   "metadata": {
    "ExecuteTime": {
     "end_time": "2020-09-23T21:26:50.205524Z",
     "start_time": "2020-09-23T21:26:50.199453Z"
    }
   },
   "outputs": [],
   "source": [
    "data_train1 = data_train.columns\n",
    "data_train2 = data_train.copy()"
   ]
  },
  {
   "cell_type": "markdown",
   "metadata": {},
   "source": [
    "# XGBoost"
   ]
  },
  {
   "cell_type": "code",
   "execution_count": 108,
   "metadata": {
    "ExecuteTime": {
     "end_time": "2020-09-24T18:34:23.489449Z",
     "start_time": "2020-09-24T18:34:15.009104Z"
    }
   },
   "outputs": [],
   "source": [
    "import xgboost as xgb\n",
    "xgb = xgb.XGBClassifier(\n",
    "    seed = 10,\n",
    "    class_weight = 'balanced',  \n",
    "    eta = 0.1,\n",
    "    max_depth = 7,\n",
    "    min_child_weight = 4,\n",
    "    subsample = 0.9,\n",
    "    n_estimators = 150,\n",
    "    colsample_bytree = 0.9\n",
    "\n",
    ")\n",
    "\n",
    "xgb.fit(data_train, y_train)\n",
    "training_preds = xgb.predict(data_train)\n",
    "y_pred = xgb.predict(data_test)"
   ]
  },
  {
   "cell_type": "code",
   "execution_count": 109,
   "metadata": {
    "ExecuteTime": {
     "end_time": "2020-09-24T18:34:25.570273Z",
     "start_time": "2020-09-24T18:34:25.556012Z"
    }
   },
   "outputs": [
    {
     "name": "stdout",
     "output_type": "stream",
     "text": [
      "Null Score: 59.36%\n",
      "Training Accuracy: 82.06%\n",
      "Validation accuracy: 71.34%\n"
     ]
    }
   ],
   "source": [
    "training_accuracy = accuracy_score(y_train, training_preds)\n",
    "val_accuracy = accuracy_score(y_test, y_pred)\n",
    "\n",
    "ns = y_test.mean()\n",
    "print(\"Null Score: {:.4}%\".format(ns * 100))\n",
    "print(\"Training Accuracy: {:.4}%\".format(training_accuracy * 100))\n",
    "print(\"Validation accuracy: {:.4}%\".format(val_accuracy * 100))"
   ]
  },
  {
   "cell_type": "code",
   "execution_count": 89,
   "metadata": {
    "ExecuteTime": {
     "end_time": "2020-09-23T21:31:46.210586Z",
     "start_time": "2020-09-23T21:31:46.142815Z"
    }
   },
   "outputs": [
    {
     "name": "stdout",
     "output_type": "stream",
     "text": [
      "\n",
      "Confusion Matrix\n",
      "----------------\n"
     ]
    },
    {
     "data": {
      "text/html": [
       "<div>\n",
       "<style scoped>\n",
       "    .dataframe tbody tr th:only-of-type {\n",
       "        vertical-align: middle;\n",
       "    }\n",
       "\n",
       "    .dataframe tbody tr th {\n",
       "        vertical-align: top;\n",
       "    }\n",
       "\n",
       "    .dataframe thead th {\n",
       "        text-align: right;\n",
       "    }\n",
       "</style>\n",
       "<table border=\"1\" class=\"dataframe\">\n",
       "  <thead>\n",
       "    <tr style=\"text-align: right;\">\n",
       "      <th>Predicted</th>\n",
       "      <th>0</th>\n",
       "      <th>1</th>\n",
       "      <th>All</th>\n",
       "    </tr>\n",
       "    <tr>\n",
       "      <th>Actual</th>\n",
       "      <th></th>\n",
       "      <th></th>\n",
       "      <th></th>\n",
       "    </tr>\n",
       "  </thead>\n",
       "  <tbody>\n",
       "    <tr>\n",
       "      <td>0</td>\n",
       "      <td>1420</td>\n",
       "      <td>1216</td>\n",
       "      <td>2636</td>\n",
       "    </tr>\n",
       "    <tr>\n",
       "      <td>1</td>\n",
       "      <td>634</td>\n",
       "      <td>3216</td>\n",
       "      <td>3850</td>\n",
       "    </tr>\n",
       "    <tr>\n",
       "      <td>All</td>\n",
       "      <td>2054</td>\n",
       "      <td>4432</td>\n",
       "      <td>6486</td>\n",
       "    </tr>\n",
       "  </tbody>\n",
       "</table>\n",
       "</div>"
      ],
      "text/plain": [
       "Predicted     0     1   All\n",
       "Actual                     \n",
       "0          1420  1216  2636\n",
       "1           634  3216  3850\n",
       "All        2054  4432  6486"
      ]
     },
     "execution_count": 89,
     "metadata": {},
     "output_type": "execute_result"
    }
   ],
   "source": [
    "print('\\nConfusion Matrix')\n",
    "print('----------------')\n",
    "pd.crosstab(y_test, y_pred, rownames=['Actual'], colnames=['Predicted'], margins=True)"
   ]
  },
  {
   "cell_type": "code",
   "execution_count": 90,
   "metadata": {
    "ExecuteTime": {
     "end_time": "2020-09-23T21:32:13.389885Z",
     "start_time": "2020-09-23T21:32:13.373291Z"
    }
   },
   "outputs": [
    {
     "name": "stdout",
     "output_type": "stream",
     "text": [
      "              precision    recall  f1-score   support\n",
      "\n",
      "           0       0.69      0.54      0.61      2636\n",
      "           1       0.73      0.84      0.78      3850\n",
      "\n",
      "    accuracy                           0.71      6486\n",
      "   macro avg       0.71      0.69      0.69      6486\n",
      "weighted avg       0.71      0.71      0.71      6486\n",
      "\n"
     ]
    }
   ],
   "source": [
    "print(classification_report(y_test, y_pred))"
   ]
  },
  {
   "cell_type": "code",
   "execution_count": 93,
   "metadata": {
    "ExecuteTime": {
     "end_time": "2020-09-23T21:33:02.258129Z",
     "start_time": "2020-09-23T21:33:01.740970Z"
    }
   },
   "outputs": [
    {
     "data": {
      "image/png": "[encoded data removed]",
      "text/plain": [
       "<Figure size 864x720 with 1 Axes>"
      ]
     },
     "metadata": {
      "needs_background": "light"
     },
     "output_type": "display_data"
    }
   ],
   "source": [
    "from xgboost import plot_importance\n",
    "\n",
    "def plot_features(booster, figsize):    \n",
    "    fig, ax = plt.subplots(1,1,figsize=figsize)\n",
    "    return plot_importance(booster=booster, ax=ax, importance_type='gain').set_yticklabels(data_train)\n",
    "\n",
    "plot_features(xgb, (12,10));"
   ]
  },
  {
   "cell_type": "markdown",
   "metadata": {},
   "source": [
    "# Grid Search"
   ]
  },
  {
   "cell_type": "code",
   "execution_count": 112,
   "metadata": {
    "ExecuteTime": {
     "end_time": "2020-09-24T19:54:22.020700Z",
     "start_time": "2020-09-24T19:54:22.006526Z"
    }
   },
   "outputs": [],
   "source": [
    "param_grid = {\n",
    "    \"learning_rate\": [0.1],\n",
    "    'max_depth': [4, 5, 6, 7],\n",
    "    'min_child_weight': [4, 5, 6],\n",
    "    'subsample': [1, 0.85, 0.75],\n",
    "    'n_estimators': [80, 90, 100, 120],\n",
    "    'colsample_bytree': [1, 0.85, 0.75],\n",
    "    'class_weight': ['balanced']\n",
    "}"
   ]
  },
  {
   "cell_type": "code",
   "execution_count": 113,
   "metadata": {
    "ExecuteTime": {
     "end_time": "2020-09-24T20:25:36.968420Z",
     "start_time": "2020-09-24T19:54:22.819470Z"
    }
   },
   "outputs": [
    {
     "name": "stdout",
     "output_type": "stream",
     "text": [
      "Grid Search found the following optimal parameters: \n",
      "class_weight: 'balanced'\n",
      "colsample_bytree: 0.85\n",
      "learning_rate: 0.1\n",
      "max_depth: 5\n",
      "min_child_weight: 5\n",
      "n_estimators: 120\n",
      "subsample: 0.85\n",
      "\n",
      "Training Accuracy: 74.91%\n",
      "Validation accuracy: 71.77%\n",
      "-----------------------------------------\n",
      "Null score: 0.40641381436941104\n",
      "              precision    recall  f1-score   support\n",
      "\n",
      "           0       0.70      0.54      0.61      2636\n",
      "           1       0.73      0.84      0.78      3850\n",
      "\n",
      "    accuracy                           0.72      6486\n",
      "   macro avg       0.71      0.69      0.69      6486\n",
      "weighted avg       0.72      0.72      0.71      6486\n",
      "\n"
     ]
    }
   ],
   "source": [
    "import xgboost as xgb\n",
    "\n",
    "clf = xgb.XGBClassifier()\n",
    "\n",
    "cv = StratifiedKFold(n_splits=2, shuffle=True, random_state=1)\n",
    "\n",
    "grid_clf = GridSearchCV(clf, param_grid, scoring='accuracy', cv=cv, n_jobs=1)\n",
    "grid_clf.fit(data_train, y_train)\n",
    "\n",
    "best_parameters = grid_clf.best_params_\n",
    "\n",
    "print(\"Grid Search found the following optimal parameters: \")\n",
    "for param_name in sorted(best_parameters.keys()):\n",
    "    print(\"%s: %r\" % (param_name, best_parameters[param_name]))\n",
    "\n",
    "training_preds = grid_clf.predict(data_train)\n",
    "val_preds = grid_clf.predict(data_test)\n",
    "training_accuracy = accuracy_score(y_train, training_preds)\n",
    "val_accuracy = accuracy_score(y_test, val_preds)\n",
    "\n",
    "print(\"\")\n",
    "print(\"Training Accuracy: {:.4}%\".format(training_accuracy * 100))\n",
    "print(\"Validation accuracy: {:.4}%\".format(val_accuracy * 100))\n",
    "print('-----------------------------------------')\n",
    "print(f'Null score: {ns}')\n",
    "print(classification_report(y_test, val_preds))"
   ]
  },
  {
   "cell_type": "code",
   "execution_count": 118,
   "metadata": {
    "ExecuteTime": {
     "end_time": "2020-09-30T17:10:14.796772Z",
     "start_time": "2020-09-30T17:10:12.995972Z"
    }
   },
   "outputs": [
    {
     "data": {
      "text/plain": [
       "<streamlit.delta_generator.DeltaGenerator at 0x11029e940>"
      ]
     },
     "execution_count": 118,
     "metadata": {},
     "output_type": "execute_result"
    }
   ],
   "source": [
    "st.title('Open University - machine learning')\n",
    "st.dataframe(df, 10000, 700)"
   ]
  },
  {
   "cell_type": "code",
   "execution_count": null,
   "metadata": {},
   "outputs": [],
   "source": []
  }
 ],
 "metadata": {
  "hide_input": false,
  "kernelspec": {
   "display_name": "Python [conda env:learn-env] *",
   "language": "python",
   "name": "conda-env-learn-env-py"
  },
  "language_info": {
   "codemirror_mode": {
    "name": "ipython",
    "version": 3
   },
   "file_extension": ".py",
   "mimetype": "text/x-python",
   "name": "python",
   "nbconvert_exporter": "python",
   "pygments_lexer": "ipython3",
   "version": "3.6.9"
  }
 },
 "nbformat": 4,
 "nbformat_minor": 2
}
